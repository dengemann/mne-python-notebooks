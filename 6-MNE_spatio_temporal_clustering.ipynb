{
 "metadata": {
  "name": "",
  "signature": "sha256:e367369d082a3f148166241e099eccc2dc2145ea8137daf8a895684c3527967e"
 },
 "nbformat": 3,
 "nbformat_minor": 0,
 "worksheets": [
  {
   "cells": [
    {
     "cell_type": "markdown",
     "metadata": {},
     "source": [
      "Author: Denis Engemann <denis.engemann@gmail.com>\n",
      "\n"
     ]
    },
    {
     "cell_type": "markdown",
     "metadata": {},
     "source": [
      "# Spatiotemporal permutation F-test on full sensor data\n",
      "\n",
      "Tests for differential evoked responses in at least\n",
      "one condition using a permutation clustering test.\n",
      "The FieldTrip neighbor templates will be used to determine\n",
      "the adjacency between sensors. This serves as a spatial prior\n",
      "to the clustering. Significant spatiotemporal clusters will then\n",
      "be visualized using custom matplotlib code.\n"
     ]
    },
    {
     "cell_type": "code",
     "collapsed": false,
     "input": [
      "import numpy as np\n",
      "\n",
      "import mne\n",
      "from mne.stats import spatio_temporal_cluster_test\n",
      "from mne.datasets import sample\n",
      "\n",
      "###############################################################################\n",
      "\n",
      "# Set parameters\n",
      "data_path = sample.data_path()\n",
      "raw_fname = data_path + '/MEG/sample/sample_audvis_filt-0-40_raw.fif'\n",
      "event_fname = data_path + '/MEG/sample/sample_audvis_filt-0-40_raw-eve.fif'\n",
      "event_id = {'Aud_L': 1, 'Aud_R': 2, 'Vis_L': 3, 'Vis_R': 4}\n",
      "tmin, tmax = -0.2, 0.5\n",
      "\n",
      "# Setup for reading the raw data\n",
      "raw = mne.io.Raw(raw_fname, preload=True)\n",
      "raw.filter(1, 30)\n",
      "events = mne.read_events(event_fname)"
     ],
     "language": "python",
     "metadata": {},
     "outputs": [
      {
       "output_type": "stream",
       "stream": "stdout",
       "text": [
        "Opening raw data file /Users/dengemann/mne_data/MNE-sample-data/MEG/sample/sample_audvis_filt-0-40_raw.fif...\n"
       ]
      },
      {
       "output_type": "stream",
       "stream": "stdout",
       "text": [
        "    Read a total of 4 projection items:\n"
       ]
      },
      {
       "output_type": "stream",
       "stream": "stdout",
       "text": [
        "        PCA-v1 (1 x 102)  idle\n"
       ]
      },
      {
       "output_type": "stream",
       "stream": "stdout",
       "text": [
        "        PCA-v2 (1 x 102)  idle\n"
       ]
      },
      {
       "output_type": "stream",
       "stream": "stdout",
       "text": [
        "        PCA-v3 (1 x 102)  idle\n"
       ]
      },
      {
       "output_type": "stream",
       "stream": "stdout",
       "text": [
        "        Average EEG reference (1 x 60)  idle\n"
       ]
      },
      {
       "output_type": "stream",
       "stream": "stdout",
       "text": [
        "Current compensation grade : 0\n"
       ]
      },
      {
       "output_type": "stream",
       "stream": "stdout",
       "text": [
        "    Range : 6450 ... 48149 =     42.956 ...   320.665 secs\n"
       ]
      },
      {
       "output_type": "stream",
       "stream": "stdout",
       "text": [
        "Ready.\n"
       ]
      },
      {
       "output_type": "stream",
       "stream": "stdout",
       "text": [
        "Reading 0 ... 41699  =      0.000 ...   277.709 secs...\n"
       ]
      },
      {
       "output_type": "stream",
       "stream": "stdout",
       "text": [
        "[done]\n"
       ]
      },
      {
       "output_type": "stream",
       "stream": "stdout",
       "text": [
        "Band-pass filtering from 1 - 30 Hz\n"
       ]
      }
     ],
     "prompt_number": 11
    },
    {
     "cell_type": "markdown",
     "metadata": {},
     "source": [
      "# Read epochs and prepare data"
     ]
    },
    {
     "cell_type": "code",
     "collapsed": false,
     "input": [
      "picks = mne.pick_types(raw.info, meg='mag', eog=True)\n",
      "reject = dict(mag=4e-12, eog=150e-6)\n",
      "\n",
      "epochs = mne.Epochs(raw, events, event_id, tmin, tmax, picks=picks,\n",
      "                    baseline=None, reject=reject, preload=True, verbose=False)\n",
      "\n",
      "epochs.drop_channels(['EOG 061'])  # good bye EOG channel!\n",
      "\n",
      "# let's look up our number of conditions\n",
      "print(epochs)\n",
      "\n",
      "epochs.equalize_event_counts(event_id, copy=False)\n",
      "\n",
      "# let's do it again!\n",
      "print(epochs)\n",
      "\n",
      "# for later plotting we need an ordered sequence of condition names\n",
      "condition_names = 'Aud_L', 'Aud_R'# , 'Vis_L', 'Vis_R'\n",
      "\n",
      "# we need a list of arrays\n",
      "X = [epochs[k].get_data() for k in condition_names]  # as 3D matrix\n",
      "X = [np.transpose(x, (0, 2, 1)) for x in X]  # transpose for clustering\n",
      "\n",
      "print('\\nWe have %i samples, %i time points, and %i sensors' % X[0].shape)\n",
      "print('And we have %i conditions' % len(X))"
     ],
     "language": "python",
     "metadata": {},
     "outputs": [
      {
       "output_type": "stream",
       "stream": "stdout",
       "text": [
        "<Epochs  |  n_events : 239 (all good), tmin : -0.2 (s), tmax : 0.5 (s), baseline : None,\n",
        " 'Aud_L': 55, 'Aud_R': 61, 'Vis_L': 67, 'Vis_R': 56>\n",
        "<Epochs  |  n_events : 220 (all good), tmin : -0.2 (s), tmax : 0.5 (s), baseline : None,\n",
        " 'Aud_L': 55, 'Aud_R': 55, 'Vis_L': 55, 'Vis_R': 55>\n",
        "\n",
        "We have 55 samples, 106 time points, and 102 sensors"
       ]
      },
      {
       "output_type": "stream",
       "stream": "stdout",
       "text": [
        "\n",
        "And we have 2 conditions\n"
       ]
      }
     ],
     "prompt_number": 12
    },
    {
     "cell_type": "markdown",
     "metadata": {},
     "source": [
      "# load FieldTrip neighbor definition to setup sensor connectivity"
     ]
    },
    {
     "cell_type": "code",
     "collapsed": false,
     "input": [
      "from mne.channels import read_ch_connectivity\n",
      "connectivity, ch_names = read_ch_connectivity('neuromag306mag_neighb.mat')\n",
      "\n",
      "print(type(connectivity))  # it's a sparse matrix!\n",
      "\n",
      "%matplotlib inline\n",
      "import matplotlib.pyplot as plt  # and we can visualize it.\n",
      "\n",
      "plt.imshow(connectivity.toarray(), cmap='gray', origin='lower',\n",
      "           interpolation='nearest')\n",
      "plt.xlabel('{} Magnetometers'.format(len(ch_names)))\n",
      "plt.ylabel('{} Magnetometers'.format(len(ch_names)))\n",
      "plt.title('Between-sensor adjacency');"
     ],
     "language": "python",
     "metadata": {},
     "outputs": [
      {
       "output_type": "stream",
       "stream": "stdout",
       "text": [
        "<class 'scipy.sparse.csr.csr_matrix'>\n"
       ]
      },
      {
       "metadata": {},
       "output_type": "display_data",
       "png": "iVBORw0KGgoAAAANSUhEUgAAARcAAAEZCAYAAAC92WGkAAAABHNCSVQICAgIfAhkiAAAAAlwSFlz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\n",
       "text": [
        "<matplotlib.figure.Figure at 0x11c447510>"
       ]
      }
     ],
     "prompt_number": 13
    },
    {
     "cell_type": "markdown",
     "metadata": {},
     "source": [
      "# Compute spatiotemporal clustering statistic"
     ]
    },
    {
     "cell_type": "code",
     "collapsed": false,
     "input": [
      "mne.stats.spatio_temporal_cluster_1samp_\n"
     ],
     "language": "python",
     "metadata": {},
     "outputs": [
      {
       "ename": "AttributeError",
       "evalue": "'module' object has no attribute 'spatio_temporal_cluster_1samp_'",
       "output_type": "pyerr",
       "traceback": [
        "\u001b[0;31m---------------------------------------------------------------------------\u001b[0m\n\u001b[0;31mAttributeError\u001b[0m                            Traceback (most recent call last)",
        "\u001b[0;32m<ipython-input-14-891162e0fa0a>\u001b[0m in \u001b[0;36m<module>\u001b[0;34m()\u001b[0m\n\u001b[0;32m----> 1\u001b[0;31m \u001b[0mmne\u001b[0m\u001b[0;34m.\u001b[0m\u001b[0mstats\u001b[0m\u001b[0;34m.\u001b[0m\u001b[0mspatio_temporal_cluster_1samp_\u001b[0m\u001b[0;34m\u001b[0m\u001b[0m\n\u001b[0m",
        "\u001b[0;31mAttributeError\u001b[0m: 'module' object has no attribute 'spatio_temporal_cluster_1samp_'"
       ]
      }
     ],
     "prompt_number": 14
    },
    {
     "cell_type": "code",
     "collapsed": false,
     "input": [
      "# choose statistic used to form clusters\n",
      "stat_fun = mne.stats.parametric.f_oneway\n",
      "\n",
      "# set cluster formation threshold\n",
      "threshold = 50.0  # very high, but the test is quite sensitive on this data\n",
      "\n",
      "# set family-wise p-value (let's be conservative today)\n",
      "p_accept = 0.001\n",
      "\n",
      "# don't forget, destpite the F-test we chose as cluster statistic this remains\n",
      "# a non-parametric test\n",
      "cluster_stats = spatio_temporal_cluster_test(X, n_permutations=1024,\n",
      "                                             threshold=threshold, tail=1,\n",
      "                                             n_jobs=2,\n",
      "                                             stat_fun=stat_fun,\n",
      "                                             connectivity=connectivity)\n",
      "\n",
      "# How does it work? We use clustering to `bind` together features which are\n",
      "# similar. Our features are the magnetic fields measured over our sensor\n",
      "# array at different times. This reduces the multiple comparison problem.\n",
      "# To compute the actual test-statistic, we first sum all F-values in all\n",
      "# clusters. We end up with one statistic for each cluster.\n",
      "# Then we genereate a distribution from the data by shuffling our conditions\n",
      "# between our samples and recomputing our clusters and the test statistics.\n",
      "# We test for the signficance of a given cluster by computing the probability\n",
      "# of observing a cluster of that size. For more background read:\n",
      "# Maris/Oostenveld (2007), \"Nonparametric statistical testing of EEG- and\n",
      "# MEG-data\" Journal of Neuroscience Methods, Vol. 164, No. 1., pp. 177-190.\n",
      "# doi:10.1016/j.jneumeth.2007.03.024\n",
      "\n",
      "T_obs, clusters, p_values, _ = cluster_stats\n",
      "# only keep good clusters\n",
      "good_cluster_inds = np.where(p_values < p_accept)[0]\n",
      "\n",
      "# Note. The same functions works with source estimate. The only differences\n",
      "# are the origin of the data, the size, and the connectivity defintion.\n",
      "# It can be used for single trials or for groups of subjects."
     ],
     "language": "python",
     "metadata": {},
     "outputs": [
      {
       "output_type": "stream",
       "stream": "stdout",
       "text": [
        "stat_fun(H1): min=0.000000 max=62.218357\n"
       ]
      },
      {
       "output_type": "stream",
       "stream": "stdout",
       "text": [
        "Running intial clustering\n"
       ]
      },
      {
       "output_type": "stream",
       "stream": "stdout",
       "text": [
        "Found 2 clusters\n"
       ]
      },
      {
       "output_type": "stream",
       "stream": "stdout",
       "text": [
        "joblib supports memapping pool but \"MNE_CACHE_DIR\" is not set in MNE-Python config. To enable it, use, e.g., mne.set_cache_dir('/tmp/shm'). This will store temporary files under /dev/shm and can result in large memory savings.\n"
       ]
      },
      {
       "output_type": "stream",
       "stream": "stdout",
       "text": [
        "Permuting ...\n"
       ]
      }
     ]
    },
    {
     "cell_type": "markdown",
     "metadata": {},
     "source": [
      "# Visualize clusters"
     ]
    },
    {
     "cell_type": "code",
     "collapsed": false,
     "input": [
      "%matplotlib inline\n",
      "\n",
      "# load additional viz functionality\n",
      "from mpl_toolkits.axes_grid1 import make_axes_locatable\n",
      "from mne.viz import plot_topomap\n",
      "\n",
      "# configure variables for visualization\n",
      "times = epochs.times * 1e3\n",
      "\n",
      "# 4 conditions, 4 colors, 4 lines styles\n",
      "colors = 'r', 'r'#, 'steelblue', 'steelblue'\n",
      "linestyles = '-', '--' #, '-', '--'\n",
      "\n",
      "# grand average as numpy arrray\n",
      "grand_ave = np.array(X).mean(axis=1)\n",
      "\n",
      "# get sensor positions via layout\n",
      "pos = mne.find_layout(epochs.info).pos\n",
      "\n",
      "# loop over significant clusters\n",
      "for i_clu, clu_idx in enumerate(good_cluster_inds):\n",
      "    # unpack cluster infomation, get unique indices\n",
      "    time_inds, space_inds = np.squeeze(clusters[clu_idx])\n",
      "    ch_inds = np.unique(space_inds)\n",
      "    time_inds = np.unique(time_inds)\n",
      "\n",
      "    # get topography for F stat\n",
      "    f_map = T_obs[time_inds, ...].mean(axis=0)\n",
      "\n",
      "    # get signals at significant sensors\n",
      "    signals = grand_ave[..., ch_inds].mean(axis=-1)\n",
      "    sig_times = times[time_inds]\n",
      "\n",
      "    # create spatial mask\n",
      "    # initialize array of bools (False)\n",
      "    mask = np.zeros((f_map.shape[0], 1), dtype=bool)\n",
      "    mask[ch_inds, :] = True  # set to True at ch_inds\n",
      "\n",
      "    # initialize figure\n",
      "    fig, ax_topo = plt.subplots(1, 1, figsize=(10, 3))\n",
      "    title = 'Cluster #{0}'.format(i_clu + 1)\n",
      "    fig.suptitle(title, fontsize=14)\n",
      "\n",
      "    # plot average test statistic and mark significant sensors\n",
      "    image, _ = plot_topomap(f_map, pos, mask=mask, axis=ax_topo, show=False,\n"
      "                            cmap='Reds', vmin=np.min, vmax=np.max)\n",
      "\n",
      "    # advanced matplotlib for showing image with figure and colorbar\n",
      "    # in one plot\n",
      "    divider = make_axes_locatable(ax_topo)\n",
      "\n",
      "    # add axes for colorbar\n",
      "    ax_colorbar = divider.append_axes('right', size='5%', pad=0.05)\n",
      "    plt.colorbar(image, cax=ax_colorbar)\n",
      "    ax_topo.set_xlabel('Averaged F-map ({:0.1f} - {:0.1f} ms)'.format(\n",
      "        *sig_times[[0, -1]]  # Quiz: what does the astersik do here?\n",
      "    ))\n",
      "\n",
      "    # add new axis for time courses and plot time courses\n",
      "    ax_signals = divider.append_axes('right', size='300%', pad=1.2)\n",
      "    for signal, name, col, ls in zip(signals, condition_names, colors,\n",
      "                                     linestyles):\n",
      "        ax_signals.plot(times, signal, color=col, linestyle=ls, label=name)\n",
      "\n",
      "    # add some information to axes\n",
      "    ax_signals.axvline(0, color='k', linestyle=':', label='stimulus onset')\n",
      "    ax_signals.set_xlim([times[0], times[-1]])\n",
      "    ax_signals.set_xlabel('time [ms]')\n",
      "    ax_signals.set_ylabel('evoked magnetic fields [fT]')\n",
      "\n",
      "    # plot significant time range\n",
      "    ymin, ymax = ax_signals.get_ylim()\n",
      "    ax_signals.fill_betweenx((ymin, ymax), sig_times[0], sig_times[-1],\n",
      "                             color='orange', alpha=0.3)\n",
      "    # add a legend\n",
      "    ax_signals.legend(loc='lower right')\n",
      "    ax_signals.set_ylim(ymin, ymax)\n",
      "\n",
      "    # clean up viz\n",
      "    mne.viz.tight_layout(fig=fig)\n",
      "    fig.subplots_adjust(bottom=.05)\n",
      "    plt.show()"
     ],
     "language": "python",
     "metadata": {},
     "outputs": []
    },
    {
     "cell_type": "markdown",
     "metadata": {},
     "source": [
      "# Excercises\n",
      "\n",
      "- What is the smallest p-value you can obtain, given the finite number of permutations?\n",
      "- use an F distribution to compute the threshold by tradition significance levels. Hint: take a look at ```scipy.stats.distributions.f```\n",
      "- Visualize the difference between the auditory and the visual evoked instead of using the F-map\n",
      "- discover and use the TFCE option"
     ]
    }
   ],
   "metadata": {}
  }
 ]
}
